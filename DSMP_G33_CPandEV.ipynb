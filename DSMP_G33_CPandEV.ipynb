{
 "cells": [
  {
   "cell_type": "code",
   "execution_count": 50,
   "metadata": {},
   "outputs": [],
   "source": [
    "# Import necessary library\n",
    "import pandas as pd\n",
    "import numpy as np\n",
    "import matplotlib.pyplot as plt"
   ]
  },
  {
   "cell_type": "code",
   "execution_count": 51,
   "metadata": {},
   "outputs": [],
   "source": [
    "# Read .csv file and then turn into dataframe\n",
    "df_CP_EV = pd.read_csv(\"C:/Users/Admin/Desktop/DSMP/Raw data/Charging points and EVs group by city.csv\")"
   ]
  },
  {
   "cell_type": "code",
   "execution_count": 52,
   "metadata": {},
   "outputs": [
    {
     "data": {
      "text/html": [
       "<div>\n",
       "<style scoped>\n",
       "    .dataframe tbody tr th:only-of-type {\n",
       "        vertical-align: middle;\n",
       "    }\n",
       "\n",
       "    .dataframe tbody tr th {\n",
       "        vertical-align: top;\n",
       "    }\n",
       "\n",
       "    .dataframe thead th {\n",
       "        text-align: right;\n",
       "    }\n",
       "</style>\n",
       "<table border=\"1\" class=\"dataframe\">\n",
       "  <thead>\n",
       "    <tr style=\"text-align: right;\">\n",
       "      <th></th>\n",
       "      <th>ONS Geography [note 6]</th>\n",
       "      <th>Number of Evs in Q3/2022</th>\n",
       "      <th>Number of Charging devices</th>\n",
       "    </tr>\n",
       "  </thead>\n",
       "  <tbody>\n",
       "    <tr>\n",
       "      <th>0</th>\n",
       "      <td>County Durham</td>\n",
       "      <td>2,016</td>\n",
       "      <td>206</td>\n",
       "    </tr>\n",
       "    <tr>\n",
       "      <th>1</th>\n",
       "      <td>Darlington</td>\n",
       "      <td>1,011</td>\n",
       "      <td>54</td>\n",
       "    </tr>\n",
       "    <tr>\n",
       "      <th>2</th>\n",
       "      <td>Hartlepool</td>\n",
       "      <td>242</td>\n",
       "      <td>8</td>\n",
       "    </tr>\n",
       "    <tr>\n",
       "      <th>3</th>\n",
       "      <td>Middlesbrough</td>\n",
       "      <td>270</td>\n",
       "      <td>33</td>\n",
       "    </tr>\n",
       "    <tr>\n",
       "      <th>4</th>\n",
       "      <td>Northumberland</td>\n",
       "      <td>1,800</td>\n",
       "      <td>220</td>\n",
       "    </tr>\n",
       "    <tr>\n",
       "      <th>...</th>\n",
       "      <td>...</td>\n",
       "      <td>...</td>\n",
       "      <td>...</td>\n",
       "    </tr>\n",
       "    <tr>\n",
       "      <th>369</th>\n",
       "      <td>Fermanagh and Omagh</td>\n",
       "      <td>212</td>\n",
       "      <td>31</td>\n",
       "    </tr>\n",
       "    <tr>\n",
       "      <th>370</th>\n",
       "      <td>Lisburn and Castlereagh</td>\n",
       "      <td>796</td>\n",
       "      <td>13</td>\n",
       "    </tr>\n",
       "    <tr>\n",
       "      <th>371</th>\n",
       "      <td>Mid and East Antrim</td>\n",
       "      <td>422</td>\n",
       "      <td>26</td>\n",
       "    </tr>\n",
       "    <tr>\n",
       "      <th>372</th>\n",
       "      <td>Mid Ulster</td>\n",
       "      <td>318</td>\n",
       "      <td>24</td>\n",
       "    </tr>\n",
       "    <tr>\n",
       "      <th>373</th>\n",
       "      <td>Newry, Mourne and Down</td>\n",
       "      <td>470</td>\n",
       "      <td>34</td>\n",
       "    </tr>\n",
       "  </tbody>\n",
       "</table>\n",
       "<p>374 rows × 3 columns</p>\n",
       "</div>"
      ],
      "text/plain": [
       "         ONS Geography [note 6] Number of Evs in Q3/2022  \\\n",
       "0                 County Durham                    2,016   \n",
       "1                    Darlington                    1,011   \n",
       "2                    Hartlepool                      242   \n",
       "3                 Middlesbrough                      270   \n",
       "4                Northumberland                    1,800   \n",
       "..                          ...                      ...   \n",
       "369         Fermanagh and Omagh                      212   \n",
       "370     Lisburn and Castlereagh                      796   \n",
       "371         Mid and East Antrim                      422   \n",
       "372                  Mid Ulster                      318   \n",
       "373      Newry, Mourne and Down                      470   \n",
       "\n",
       "    Number of Charging devices  \n",
       "0                          206  \n",
       "1                           54  \n",
       "2                            8  \n",
       "3                           33  \n",
       "4                          220  \n",
       "..                         ...  \n",
       "369                         31  \n",
       "370                         13  \n",
       "371                         26  \n",
       "372                         24  \n",
       "373                         34  \n",
       "\n",
       "[374 rows x 3 columns]"
      ]
     },
     "execution_count": 52,
     "metadata": {},
     "output_type": "execute_result"
    }
   ],
   "source": [
    "df_CP_EV"
   ]
  },
  {
   "cell_type": "code",
   "execution_count": 53,
   "metadata": {},
   "outputs": [
    {
     "data": {
      "image/png": "[encoded data removed]",
      "text/plain": [
       "<Figure size 432x288 with 1 Axes>"
      ]
     },
     "metadata": {
      "needs_background": "light"
     },
     "output_type": "display_data"
    }
   ],
   "source": [
    "# convert the 'Number of Evs in Q3/2022' and 'Number of Charging devices' columns to numeric data type\n",
    "df_CP_EV['Number of Evs in Q3/2022'] = df_CP_EV['Number of Evs in Q3/2022'].str.replace(',', '').astype('float64')\n",
    "df_CP_EV['Number of Charging devices'] = df_CP_EV['Number of Charging devices'].str.replace(',', '').astype('float64')\n",
    "\n",
    "# create scatter plot\n",
    "plt.scatter(df_CP_EV['Number of Evs in Q3/2022'], df_CP_EV['Number of Charging devices'])\n",
    "\n",
    "# add labels and title\n",
    "plt.xlabel('Number of Evs in Q3/2022')\n",
    "plt.ylabel('Number of Charging devices')\n",
    "plt.title('Scatter plot of Number of Evs vs Number of Charging devices')\n",
    "\n",
    "# show plot\n",
    "plt.show()"
   ]
  },
  {
   "cell_type": "code",
   "execution_count": 54,
   "metadata": {},
   "outputs": [
    {
     "name": "stdout",
     "output_type": "stream",
     "text": [
      "Best degree of freedom: 1\n",
      "Best mean squared error: 18410.893762445976\n"
     ]
    }
   ],
   "source": [
    "from sklearn.model_selection import GridSearchCV\n",
    "from sklearn.pipeline import Pipeline\n",
    "\n",
    "# extract variables\n",
    "x = df_CP_EV[\"Number of Evs in Q3/2022\"].values.reshape(-1, 1)\n",
    "y = df_CP_EV[\"Number of Charging devices\"].values.reshape(-1, 1)\n",
    "\n",
    "# create polynomial regression pipeline\n",
    "poly_reg = Pipeline([\n",
    "    ('poly', PolynomialFeatures()),\n",
    "    ('regressor', LinearRegression())\n",
    "])\n",
    "\n",
    "# define hyperparameters to search over\n",
    "param_grid = {\n",
    "    'poly__degree': np.arange(1, 10)\n",
    "}\n",
    "\n",
    "# perform grid search using mean squared error as evaluation metric\n",
    "grid_search = GridSearchCV(poly_reg, param_grid=param_grid, cv=5, scoring='neg_mean_squared_error')\n",
    "grid_search.fit(x, y)\n",
    "\n",
    "# print best hyperparameters and corresponding mean squared error\n",
    "print(\"Best degree of freedom:\", grid_search.best_params_['poly__degree'])\n",
    "print(\"Best mean squared error:\", -grid_search.best_score_)\n"
   ]
  },
  {
   "cell_type": "code",
   "execution_count": 55,
   "metadata": {},
   "outputs": [
    {
     "name": "stdout",
     "output_type": "stream",
     "text": [
      "R-squared: 0.046150796326272614\n"
     ]
    },
    {
     "data": {
      "image/png": "[encoded data removed]",
      "text/plain": [
       "<Figure size 432x288 with 1 Axes>"
      ]
     },
     "metadata": {
      "needs_background": "light"
     },
     "output_type": "display_data"
    }
   ],
   "source": [
    "# extract variables\n",
    "x = df_CP_EV[\"Number of Evs in Q3/2022\"].values.reshape(-1, 1)\n",
    "y = df_CP_EV[\"Number of Charging devices\"].values.reshape(-1, 1)\n",
    "\n",
    "# fit polynomial regression model\n",
    "poly = PolynomialFeatures(degree=1)\n",
    "x_poly = poly.fit_transform(x)\n",
    "poly_reg = LinearRegression()\n",
    "poly_reg.fit(x_poly, y)\n",
    "\n",
    "# predict y values using fitted model\n",
    "y_pred = poly_reg.predict(x_poly)\n",
    "\n",
    "# calculate R-squared\n",
    "ss_res = np.sum((y - y_pred)**2)\n",
    "ss_tot = np.sum((y - np.mean(y))**2)\n",
    "r_squared = 1 - (ss_res / ss_tot)\n",
    "print(\"R-squared:\", r_squared)\n",
    "\n",
    "# plot scatter plot and polynomial curve\n",
    "plt.scatter(x,y, c='blue')\n",
    "plt.plot(x, y_pred, color='red')\n",
    "plt.title(\"Polynomial Regression (R-squared = {:.3f})\".format(r_squared))\n",
    "plt.xlabel(\"Number of Evs\")\n",
    "plt.ylabel(\"Number of Charging devices\")\n",
    "plt.show()"
   ]
  },
  {
   "cell_type": "code",
   "execution_count": 56,
   "metadata": {},
   "outputs": [
    {
     "name": "stdout",
     "output_type": "stream",
     "text": [
      "Pearson correlation coefficient: 0.2148273640071785\n"
     ]
    }
   ],
   "source": [
    "correlation_coefficient = df_CP_EV['Number of Evs in Q3/2022'].corr(df_CP_EV['Number of Charging devices'])\n",
    "print('Pearson correlation coefficient:', correlation_coefficient)"
   ]
  },
  {
   "attachments": {},
   "cell_type": "markdown",
   "metadata": {},
   "source": [
    "Based on the Pearson correlation coefficient value of 0.215, we can see that there is a weak positive correlation between the number of EVs and the number of charging devices in the dataset. However, this correlation is not strong enough to indicate a significant relationship between the two variables.\n",
    "\n",
    "It's also worth noting that correlation does not always imply causation. Other factors may be influencing the number of charging devices in each city, such as government incentives or the presence of electric vehicle manufacturers or charging infrastructure providers in the area."
   ]
  },
  {
   "cell_type": "code",
   "execution_count": null,
   "metadata": {},
   "outputs": [],
   "source": []
  }
 ],
 "metadata": {
  "kernelspec": {
   "display_name": "base",
   "language": "python",
   "name": "python3"
  },
  "language_info": {
   "codemirror_mode": {
    "name": "ipython",
    "version": 3
   },
   "file_extension": ".py",
   "mimetype": "text/x-python",
   "name": "python",
   "nbconvert_exporter": "python",
   "pygments_lexer": "ipython3",
   "version": "3.9.12"
  },
  "orig_nbformat": 4
 },
 "nbformat": 4,
 "nbformat_minor": 2
}
